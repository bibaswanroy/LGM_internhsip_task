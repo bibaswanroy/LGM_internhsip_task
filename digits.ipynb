{
 "cells": [
  {
   "attachments": {},
   "cell_type": "markdown",
   "metadata": {},
   "source": [
    "<h1>LETSGROWMORE DATA SCIENCE INTERN TASK JUNE 2023</h1><br>\n",
    "<h3>Task - 02</h2>"
   ]
  },
  {
   "attachments": {},
   "cell_type": "markdown",
   "metadata": {},
   "source": [
    "<h2>Develop A Neural Network That Can Read Handwriting</h2>"
   ]
  },
  {
   "attachments": {},
   "cell_type": "markdown",
   "metadata": {},
   "source": [
    "Trains the model on the basis of MNIST dataset and then predicts new handwritings"
   ]
  },
  {
   "attachments": {},
   "cell_type": "markdown",
   "metadata": {},
   "source": [
    "1. Importing the libraries"
   ]
  },
  {
   "cell_type": "code",
   "execution_count": 2,
   "metadata": {},
   "outputs": [],
   "source": [
    "import keras\n",
    "from keras.models import Sequential\n",
    "from keras.layers.core import Dense, Dropout, Activation, Flatten\n",
    "from keras.layers.convolutional import Convolution2D, MaxPooling2D\n",
    "from keras.datasets import mnist\n",
    "from sklearn.model_selection import train_test_split\n",
    "import pandas as pd\n",
    "import numpy as np \n",
    "import matplotlib.pyplot as plt\n",
    "import random as ra\n",
    "from PIL import Image"
   ]
  },
  {
   "attachments": {},
   "cell_type": "markdown",
   "metadata": {},
   "source": [
    "Loading the dataset from MNIST"
   ]
  },
  {
   "cell_type": "code",
   "execution_count": 3,
   "metadata": {},
   "outputs": [],
   "source": [
    "(train_X, train_y), (test_X, test_y) = mnist.load_data()"
   ]
  },
  {
   "cell_type": "code",
   "execution_count": 4,
   "metadata": {},
   "outputs": [
    {
     "data": {
      "text/plain": [
       "array([5, 0, 4, ..., 5, 6, 8], dtype=uint8)"
      ]
     },
     "execution_count": 4,
     "metadata": {},
     "output_type": "execute_result"
    }
   ],
   "source": [
    "train_y"
   ]
  },
  {
   "cell_type": "code",
   "execution_count": 5,
   "metadata": {},
   "outputs": [
    {
     "data": {
      "text/plain": [
       "array([7, 2, 1, ..., 4, 5, 6], dtype=uint8)"
      ]
     },
     "execution_count": 5,
     "metadata": {},
     "output_type": "execute_result"
    }
   ],
   "source": [
    "test_y"
   ]
  },
  {
   "cell_type": "code",
   "execution_count": 6,
   "metadata": {},
   "outputs": [
    {
     "data": {
      "text/plain": [
       "3"
      ]
     },
     "execution_count": 6,
     "metadata": {},
     "output_type": "execute_result"
    },
    {
     "data": {
      "image/png": "[encoded data removed]",
      "text/plain": [
       "<Figure size 640x480 with 1 Axes>"
      ]
     },
     "metadata": {},
     "output_type": "display_data"
    }
   ],
   "source": [
    "plt.imshow(train_X[10], cmap='gray')\n",
    "train_y[10]"
   ]
  },
  {
   "attachments": {},
   "cell_type": "markdown",
   "metadata": {},
   "source": [
    "Changing the y set to categorical, and 10 categories are there"
   ]
  },
  {
   "cell_type": "code",
   "execution_count": 7,
   "metadata": {},
   "outputs": [],
   "source": [
    "cat_train_y = keras.utils.to_categorical(train_y, num_classes=10)\n",
    "cat_test_y = keras.utils.to_categorical(test_y,num_classes=10)"
   ]
  },
  {
   "cell_type": "code",
   "execution_count": 8,
   "metadata": {},
   "outputs": [
    {
     "data": {
      "text/plain": [
       "array([[0., 0., 0., ..., 0., 0., 0.],\n",
       "       [1., 0., 0., ..., 0., 0., 0.],\n",
       "       [0., 0., 0., ..., 0., 0., 0.],\n",
       "       ...,\n",
       "       [0., 0., 0., ..., 0., 0., 0.],\n",
       "       [0., 0., 0., ..., 0., 0., 0.],\n",
       "       [0., 0., 0., ..., 0., 1., 0.]], dtype=float32)"
      ]
     },
     "execution_count": 8,
     "metadata": {},
     "output_type": "execute_result"
    }
   ],
   "source": [
    "cat_train_y"
   ]
  },
  {
   "attachments": {},
   "cell_type": "markdown",
   "metadata": {},
   "source": [
    "Creating the Convolution Neural Network Architecture"
   ]
  },
  {
   "cell_type": "code",
   "execution_count": 9,
   "metadata": {},
   "outputs": [],
   "source": [
    "model = Sequential()\n",
    "model.add(Convolution2D(32,3,data_format='channels_last',activation='relu',input_shape=(28,28,1)))\n",
    "model.add(MaxPooling2D(pool_size=(2,2)))\n",
    "model.add(Flatten())\n",
    "model.add(Dense(100))\n",
    "model.add(Dropout(0.5))\n",
    "model.add(Dense(10))\n",
    "model.add(Activation('softmax'))\n",
    "model.compile(loss='categorical_crossentropy', optimizer = 'adam', metrics = ['accuracy'])"
   ]
  },
  {
   "cell_type": "code",
   "execution_count": 10,
   "metadata": {},
   "outputs": [
    {
     "name": "stdout",
     "output_type": "stream",
     "text": [
      "Model: \"sequential\"\n",
      "_________________________________________________________________\n",
      " Layer (type)                Output Shape              Param #   \n",
      "=================================================================\n",
      " conv2d (Conv2D)             (None, 26, 26, 32)        320       \n",
      "                                                                 \n",
      " max_pooling2d (MaxPooling2D  (None, 13, 13, 32)       0         \n",
      " )                                                               \n",
      "                                                                 \n",
      " flatten (Flatten)           (None, 5408)              0         \n",
      "                                                                 \n",
      " dense (Dense)               (None, 100)               540900    \n",
      "                                                                 \n",
      " dropout (Dropout)           (None, 100)               0         \n",
      "                                                                 \n",
      " dense_1 (Dense)             (None, 10)                1010      \n",
      "                                                                 \n",
      " activation (Activation)     (None, 10)                0         \n",
      "                                                                 \n",
      "=================================================================\n",
      "Total params: 542,230\n",
      "Trainable params: 542,230\n",
      "Non-trainable params: 0\n",
      "_________________________________________________________________\n"
     ]
    }
   ],
   "source": [
    "model.summary()"
   ]
  },
  {
   "attachments": {},
   "cell_type": "markdown",
   "metadata": {},
   "source": [
    "Training with 15 epochs "
   ]
  },
  {
   "cell_type": "code",
   "execution_count": 11,
   "metadata": {},
   "outputs": [
    {
     "name": "stdout",
     "output_type": "stream",
     "text": [
      "Epoch 1/15\n",
      "1875/1875 [==============================] - 35s 18ms/step - loss: 1.6389 - accuracy: 0.9112 - val_loss: 0.1257 - val_accuracy: 0.9633\n",
      "Epoch 2/15\n",
      "1875/1875 [==============================] - 34s 18ms/step - loss: 0.1521 - accuracy: 0.9559 - val_loss: 0.1145 - val_accuracy: 0.9672\n",
      "Epoch 3/15\n",
      "1875/1875 [==============================] - 34s 18ms/step - loss: 0.1280 - accuracy: 0.9625 - val_loss: 0.1075 - val_accuracy: 0.9697\n",
      "Epoch 4/15\n",
      "1875/1875 [==============================] - 33s 18ms/step - loss: 0.1168 - accuracy: 0.9656 - val_loss: 0.1234 - val_accuracy: 0.9659\n",
      "Epoch 5/15\n",
      "1875/1875 [==============================] - 34s 18ms/step - loss: 0.1132 - accuracy: 0.9668 - val_loss: 0.1016 - val_accuracy: 0.9698\n",
      "Epoch 6/15\n",
      "1875/1875 [==============================] - 34s 18ms/step - loss: 0.0981 - accuracy: 0.9704 - val_loss: 0.1001 - val_accuracy: 0.9753\n",
      "Epoch 7/15\n",
      "1875/1875 [==============================] - 35s 19ms/step - loss: 0.0947 - accuracy: 0.9717 - val_loss: 0.1054 - val_accuracy: 0.9710\n",
      "Epoch 8/15\n",
      "1875/1875 [==============================] - 34s 18ms/step - loss: 0.0874 - accuracy: 0.9738 - val_loss: 0.1045 - val_accuracy: 0.9739\n",
      "Epoch 9/15\n",
      "1875/1875 [==============================] - 33s 18ms/step - loss: 0.0833 - accuracy: 0.9752 - val_loss: 0.1288 - val_accuracy: 0.9733\n",
      "Epoch 10/15\n",
      "1875/1875 [==============================] - 35s 19ms/step - loss: 0.0810 - accuracy: 0.9764 - val_loss: 0.1169 - val_accuracy: 0.9719\n",
      "Epoch 11/15\n",
      "1875/1875 [==============================] - 36s 19ms/step - loss: 0.0832 - accuracy: 0.9757 - val_loss: 0.1297 - val_accuracy: 0.9705\n",
      "Epoch 12/15\n",
      "1875/1875 [==============================] - 34s 18ms/step - loss: 0.0799 - accuracy: 0.9772 - val_loss: 0.1041 - val_accuracy: 0.9755\n",
      "Epoch 13/15\n",
      "1875/1875 [==============================] - 34s 18ms/step - loss: 0.0765 - accuracy: 0.9779 - val_loss: 0.1112 - val_accuracy: 0.9758\n",
      "Epoch 14/15\n",
      "1875/1875 [==============================] - 35s 18ms/step - loss: 0.0715 - accuracy: 0.9787 - val_loss: 0.1270 - val_accuracy: 0.9735\n",
      "Epoch 15/15\n",
      "1875/1875 [==============================] - 35s 19ms/step - loss: 0.0745 - accuracy: 0.9794 - val_loss: 0.1150 - val_accuracy: 0.9765\n"
     ]
    },
    {
     "data": {
      "text/plain": [
       "<keras.callbacks.History at 0x1edc97c3130>"
      ]
     },
     "execution_count": 11,
     "metadata": {},
     "output_type": "execute_result"
    }
   ],
   "source": [
    "model.fit(train_X,cat_train_y,epochs=15,validation_data=(test_X,cat_test_y))"
   ]
  },
  {
   "attachments": {},
   "cell_type": "markdown",
   "metadata": {},
   "source": [
    "Seeing the predictions"
   ]
  },
  {
   "cell_type": "code",
   "execution_count": 12,
   "metadata": {},
   "outputs": [
    {
     "name": "stdout",
     "output_type": "stream",
     "text": [
      "313/313 [==============================] - 1s 4ms/step\n"
     ]
    }
   ],
   "source": [
    "ypred = model.predict(test_X)"
   ]
  },
  {
   "cell_type": "code",
   "execution_count": 13,
   "metadata": {},
   "outputs": [],
   "source": [
    "y_label = []\n",
    "for i in range(len(ypred)):\n",
    "    y_label.append(np.argmax(ypred[i]))"
   ]
  },
  {
   "cell_type": "code",
   "execution_count": 14,
   "metadata": {},
   "outputs": [
    {
     "data": {
      "image/png": "[encoded data removed]",
      "text/plain": [
       "<Figure size 640x480 with 4 Axes>"
      ]
     },
     "metadata": {},
     "output_type": "display_data"
    }
   ],
   "source": [
    "for i in range(4):\n",
    "    gen = ra.randint(0,len(test_X)-1)\n",
    "    plt.subplot(1,4,i+1)\n",
    "    plt.imshow(test_X[gen],cmap='gray')\n",
    "    plt.title(y_label[gen])"
   ]
  },
  {
   "cell_type": "code",
   "execution_count": 37,
   "metadata": {},
   "outputs": [
    {
     "data": {
      "text/plain": [
       "<matplotlib.image.AxesImage at 0x1edce847430>"
      ]
     },
     "execution_count": 37,
     "metadata": {},
     "output_type": "execute_result"
    },
    {
     "data": {
      "image/png": "[encoded data removed]",
      "text/plain": [
       "<Figure size 640x480 with 1 Axes>"
      ]
     },
     "metadata": {},
     "output_type": "display_data"
    }
   ],
   "source": [
    "plt.imshow(test_X[5],cmap='gray')"
   ]
  },
  {
   "cell_type": "code",
   "execution_count": 88,
   "metadata": {},
   "outputs": [
    {
     "data": {
      "text/plain": [
       "<matplotlib.image.AxesImage at 0x1edd4c4d510>"
      ]
     },
     "execution_count": 88,
     "metadata": {},
     "output_type": "execute_result"
    },
    {
     "data": {
      "image/png": "[encoded data removed]",
      "text/plain": [
       "<Figure size 640x480 with 1 Axes>"
      ]
     },
     "metadata": {},
     "output_type": "display_data"
    }
   ],
   "source": [
    "img = Image.open('number2.jpg')\n",
    "new_img = img.resize((28,28))\n",
    "bw_img = new_img.convert('L')\n",
    "bw_img = np.array(bw_img)\n",
    "bw_img = 255 - bw_img\n",
    "# bw_img = bw_img/255\n",
    "# bw_img\n",
    "# bw_img = 255 - bw_img\n",
    "plt.imshow(bw_img,cmap='gray')\n",
    "# plt.title(model.predict(bw_img))"
   ]
  },
  {
   "cell_type": "code",
   "execution_count": 89,
   "metadata": {},
   "outputs": [
    {
     "name": "stdout",
     "output_type": "stream",
     "text": [
      "1/1 [==============================] - 0s 21ms/step\n"
     ]
    }
   ],
   "source": [
    "set_img = bw_img.reshape(1,28,28)\n",
    "ans = model.predict(set_img)"
   ]
  },
  {
   "cell_type": "code",
   "execution_count": 90,
   "metadata": {},
   "outputs": [
    {
     "name": "stdout",
     "output_type": "stream",
     "text": [
      "2\n"
     ]
    },
    {
     "data": {
      "image/png": "[encoded data removed]",
      "text/plain": [
       "<Figure size 640x480 with 1 Axes>"
      ]
     },
     "metadata": {},
     "output_type": "display_data"
    }
   ],
   "source": [
    "plt.imshow(set_img[0],cmap='gray')\n",
    "print(np.argmax(ans[0]))"
   ]
  },
  {
   "cell_type": "code",
   "execution_count": null,
   "metadata": {},
   "outputs": [],
   "source": []
  }
 ],
 "metadata": {
  "kernelspec": {
   "display_name": "Python 3",
   "language": "python",
   "name": "python3"
  },
  "language_info": {
   "codemirror_mode": {
    "name": "ipython",
    "version": 3
   },
   "file_extension": ".py",
   "mimetype": "text/x-python",
   "name": "python",
   "nbconvert_exporter": "python",
   "pygments_lexer": "ipython3",
   "version": "3.10.7"
  },
  "orig_nbformat": 4
 },
 "nbformat": 4,
 "nbformat_minor": 2
}
